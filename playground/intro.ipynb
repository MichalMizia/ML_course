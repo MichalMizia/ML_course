{
 "cells": [
  {
   "cell_type": "markdown",
   "id": "c4e70805",
   "metadata": {},
   "source": [
    "# Introduction"
   ]
  },
  {
   "cell_type": "code",
   "execution_count": 17,
   "id": "6b2e24ef",
   "metadata": {},
   "outputs": [],
   "source": [
    "import numpy as np\n",
    "import matplotlib.pyplot as plt"
   ]
  },
  {
   "cell_type": "code",
   "execution_count": 18,
   "id": "7508210a",
   "metadata": {},
   "outputs": [
    {
     "name": "stdout",
     "output_type": "stream",
     "text": [
      "[[[ 0  1  2  3]\n",
      "  [ 4  5  6  7]\n",
      "  [ 8  9 10 11]]\n",
      "\n",
      " [[12 13 14 15]\n",
      "  [16 17 18 19]\n",
      "  [20 21 22 23]]]\n",
      "\n",
      "Dimensions:  3\n",
      "Shape:  (2, 3, 4)\n"
     ]
    }
   ],
   "source": [
    "a = np.arange(24).reshape((2,3,4))\n",
    "print(a.__str__())\n",
    "print(\"\\nDimensions: \", a.ndim)\n",
    "print(\"Shape: \", a.shape)"
   ]
  },
  {
   "cell_type": "code",
   "execution_count": 19,
   "id": "76ecbd68",
   "metadata": {},
   "outputs": [
    {
     "data": {
      "text/plain": [
       "array([[ 6, 22, 38],\n",
       "       [54, 70, 86]])"
      ]
     },
     "execution_count": 19,
     "metadata": {},
     "output_type": "execute_result"
    }
   ],
   "source": [
    "a.sum(axis=2)"
   ]
  },
  {
   "cell_type": "code",
   "execution_count": 28,
   "id": "b6fb5df1",
   "metadata": {},
   "outputs": [
    {
     "name": "stdout",
     "output_type": "stream",
     "text": [
      "[[ 0  1  2  3]\n",
      " [ 4  5  6  7]\n",
      " [ 8  9 10 11]]\n",
      "\n",
      "Dimensions:  2\n",
      "Shape:  (3, 4)\n"
     ]
    }
   ],
   "source": [
    "a = np.arange(12).reshape((3,4))\n",
    "print(a.__str__())\n",
    "print(\"\\nDimensions: \", a.ndim)\n",
    "print(\"Shape: \", a.shape)"
   ]
  },
  {
   "cell_type": "code",
   "execution_count": 21,
   "id": "158fb987",
   "metadata": {},
   "outputs": [
    {
     "data": {
      "text/plain": [
       "array([ 6, 22, 38])"
      ]
     },
     "execution_count": 21,
     "metadata": {},
     "output_type": "execute_result"
    }
   ],
   "source": [
    "a.sum(axis=1)"
   ]
  },
  {
   "cell_type": "code",
   "execution_count": 29,
   "id": "66fe89af",
   "metadata": {},
   "outputs": [
    {
     "name": "stdout",
     "output_type": "stream",
     "text": [
      "[[ 3  2  1  0]\n",
      " [ 7  6  5  4]\n",
      " [11 10  9  8]]\n",
      "\n",
      "Dimensions:  2\n",
      "Shape:  (3, 4)\n"
     ]
    }
   ],
   "source": [
    "a = np.flip(a, axis=1)\n",
    "print(a.__str__())\n",
    "print(\"\\nDimensions: \", a.ndim)\n",
    "print(\"Shape: \", a.shape)"
   ]
  }
 ],
 "metadata": {
  "kernelspec": {
   "display_name": "Python 3",
   "language": "python",
   "name": "python3"
  },
  "language_info": {
   "codemirror_mode": {
    "name": "ipython",
    "version": 3
   },
   "file_extension": ".py",
   "mimetype": "text/x-python",
   "name": "python",
   "nbconvert_exporter": "python",
   "pygments_lexer": "ipython3",
   "version": "3.12.0"
  }
 },
 "nbformat": 4,
 "nbformat_minor": 5
}
